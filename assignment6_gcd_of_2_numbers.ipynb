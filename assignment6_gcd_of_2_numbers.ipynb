{
  "nbformat": 4,
  "nbformat_minor": 0,
  "metadata": {
    "colab": {
      "name": "assignment6-gcd of 2 numbers",
      "provenance": []
    },
    "kernelspec": {
      "name": "python3",
      "display_name": "Python 3"
    }
  },
  "cells": [
    {
      "cell_type": "code",
      "metadata": {
        "id": "PlbDlZIe5v-C",
        "colab_type": "code",
        "colab": {
          "base_uri": "https://localhost:8080/",
          "height": 67
        },
        "outputId": "06a250ed-2522-4e22-d61e-a9945f239ef0"
      },
      "source": [
        "num1=int(input(\"Enter 1st number:\"))\n",
        "num2=int(input(\"Enter 2nd number:\"))\n",
        "i=1\n",
        "while(i<=num1 and i<=num2):\n",
        "  if(num1%i==0 and num2%i==0):\n",
        "     gcd=i\n",
        "  i=i+1\n",
        "print(\"GCD is:\",gcd)"
      ],
      "execution_count": 10,
      "outputs": [
        {
          "output_type": "stream",
          "text": [
            "Enter 1st number:2\n",
            "Enter 2nd number:4\n",
            "GCD is: 2\n"
          ],
          "name": "stdout"
        }
      ]
    }
  ]
}