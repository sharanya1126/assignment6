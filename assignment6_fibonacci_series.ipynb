{
  "nbformat": 4,
  "nbformat_minor": 0,
  "metadata": {
    "colab": {
      "name": "assignment6-fibonacci series",
      "provenance": []
    },
    "kernelspec": {
      "name": "python3",
      "display_name": "Python 3"
    }
  },
  "cells": [
    {
      "cell_type": "code",
      "metadata": {
        "id": "yjiMS02_r8_B",
        "colab_type": "code",
        "colab": {
          "base_uri": "https://localhost:8080/",
          "height": 118
        },
        "outputId": "3fa1ced1-d76d-4089-a8d8-2de6311258a4"
      },
      "source": [
        "N=int(input(\"enter the value of N:\"))\n",
        "f,s=0,1\n",
        "i=0\n",
        "while(i<N):\n",
        "   next=f+s\n",
        "   f=s\n",
        "   s=next\n",
        "   i=i+1\n",
        "   print(next)\n",
        "\n"
      ],
      "execution_count": null,
      "outputs": [
        {
          "output_type": "stream",
          "text": [
            "enter the value of N:5\n",
            "1\n",
            "2\n",
            "3\n",
            "5\n",
            "8\n"
          ],
          "name": "stdout"
        }
      ]
    }
  ]
}