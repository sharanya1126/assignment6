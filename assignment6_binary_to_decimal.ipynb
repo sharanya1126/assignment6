{
  "nbformat": 4,
  "nbformat_minor": 0,
  "metadata": {
    "colab": {
      "name": "assignment6-binary to decimal",
      "provenance": []
    },
    "kernelspec": {
      "name": "python3",
      "display_name": "Python 3"
    }
  },
  "cells": [
    {
      "cell_type": "code",
      "metadata": {
        "id": "aGo3OOiZomgb",
        "colab_type": "code",
        "colab": {
          "base_uri": "https://localhost:8080/",
          "height": 67
        },
        "outputId": "a8e79d9b-647e-4dfe-c1fe-23aafaeb346b"
      },
      "source": [
        "b_num=list(input(\"input a binary number:\"))\n",
        "value=0\n",
        "\n",
        "for i in range(len(b_num)):\n",
        "    digit=b_num.pop()\n",
        "    if digit=='1':\n",
        "      value=value+pow(2,i)\n",
        "      print(\"the decimal value of the number is\",value)"
      ],
      "execution_count": null,
      "outputs": [
        {
          "output_type": "stream",
          "text": [
            "input a binary number:10010\n",
            "the decimal value of the number is 2\n",
            "the decimal value of the number is 18\n"
          ],
          "name": "stdout"
        }
      ]
    }
  ]
}